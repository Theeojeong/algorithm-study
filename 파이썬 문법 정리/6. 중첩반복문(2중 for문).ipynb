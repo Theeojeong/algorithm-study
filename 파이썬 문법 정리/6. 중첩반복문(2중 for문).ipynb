{
 "cells": [
  {
   "cell_type": "markdown",
   "id": "4ad6c3a3",
   "metadata": {},
   "source": [
    "# 중첩 반복문(2둥 for문)"
   ]
  },
  {
   "cell_type": "markdown",
   "id": "4f682e7f",
   "metadata": {},
   "source": [
    "print()에 아무 값도 안 넣으면?\n",
    "* print()는 기본적으로 한 줄을 출력하고, 마지막에 줄바꿈을 해준다.\n",
    "* 만약 아무 값도 넣지 않으면 그냥 줄바꿈만 한다."
   ]
  },
  {
   "cell_type": "code",
   "execution_count": 15,
   "id": "4dc5c53f",
   "metadata": {},
   "outputs": [
    {
     "name": "stdout",
     "output_type": "stream",
     "text": [
      "i가0일때 j:0 j:1 j:2 j:3 j:4 \n",
      "i가1일때 j:0 j:1 j:2 j:3 j:4 \n",
      "i가2일때 j:0 j:1 j:2 j:3 j:4 \n",
      "i가3일때 j:0 j:1 j:2 j:3 j:4 \n",
      "i가4일때 j:0 j:1 j:2 j:3 j:4 \n"
     ]
    }
   ],
   "source": [
    "for i in range(5):\n",
    "    print(f\"i가{i}일때\", sep='', end=' ')\n",
    "    for j in range(5):\n",
    "        print(\"j:\", j, sep='', end=\" \")\n",
    "    print()"
   ]
  },
  {
   "cell_type": "code",
   "execution_count": 60,
   "id": "031a6c13",
   "metadata": {},
   "outputs": [
    {
     "name": "stdout",
     "output_type": "stream",
     "text": [
      "\n",
      "* \n",
      "* * \n",
      "* * * \n",
      "* * * * \n"
     ]
    }
   ],
   "source": [
    "for i in range(5):\n",
    "    for j in range(i):\n",
    "        print(\"*\", end=\" \")\n",
    "    print()"
   ]
  },
  {
   "cell_type": "code",
   "execution_count": 30,
   "id": "f80b056b",
   "metadata": {},
   "outputs": [
    {
     "data": {
      "text/plain": [
       "[0]"
      ]
     },
     "execution_count": 30,
     "metadata": {},
     "output_type": "execute_result"
    }
   ],
   "source": [
    "list(range(1))"
   ]
  }
 ],
 "metadata": {
  "kernelspec": {
   "display_name": "Python 3",
   "language": "python",
   "name": "python3"
  },
  "language_info": {
   "codemirror_mode": {
    "name": "ipython",
    "version": 3
   },
   "file_extension": ".py",
   "mimetype": "text/x-python",
   "name": "python",
   "nbconvert_exporter": "python",
   "pygments_lexer": "ipython3",
   "version": "3.11.9"
  }
 },
 "nbformat": 4,
 "nbformat_minor": 5
}
