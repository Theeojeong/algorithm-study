{
 "cells": [
  {
   "cell_type": "code",
   "execution_count": 3,
   "id": "5ae13741",
   "metadata": {},
   "outputs": [
    {
     "name": "stdout",
     "output_type": "stream",
     "text": [
      "45\n"
     ]
    }
   ],
   "source": [
    "a=input(\"숫자를 입력하세요\")\n",
    "print(a)"
   ]
  },
  {
   "cell_type": "markdown",
   "id": "eb9fa6f3",
   "metadata": {},
   "source": [
    "### split() 매서드\n",
    "split()은 특정 구분자를 기준으로 문자열을 나누고, 나눈 결과들을 리스트(list)로 반환.\n",
    "\n",
    "1. 기본 사용법 (공백 기준)\n",
    "만약 split() 괄호 안에 아무것도 넣지 않으면, 공백을 기준으로 문자열을 나눔."
   ]
  },
  {
   "cell_type": "code",
   "execution_count": 26,
   "id": "818d0c4f",
   "metadata": {},
   "outputs": [
    {
     "name": "stdout",
     "output_type": "stream",
     "text": [
      "5\n"
     ]
    }
   ],
   "source": [
    "a, b = input(\"숫자를 입력하세요:   \").split()\n",
    "a=int(a) \n",
    "b=int(b)\n",
    "print(a+b)"
   ]
  },
  {
   "cell_type": "markdown",
   "id": "87eceec5",
   "metadata": {},
   "source": [
    "### map() 매서드\n",
    "\n",
    "map()은 자료구조(리스트, 튜플 등등)의 각 요소에 동일한 함수를 일괄적으로 적용해주는 역할을 합니다. 반복문을 쓰지 않고도 코드를 매우 간결하게 만들어준다\n",
    "\n",
    "1. 기본 문법\n",
    "map(적용할_함수, 여러_데이터) 형태로 사용.\n",
    "* 적용할_함수: 각 데이터 요소에 적용하고 싶은 함수의 이름을 넣어준다. (예: int, float)\n",
    "* 여러_데이터: 함수를 적용할 데이터들이 들어있는 리스트나 input().split() 같은 결과물을 넣어준다."
   ]
  },
  {
   "cell_type": "code",
   "execution_count": null,
   "id": "ce2000f7",
   "metadata": {},
   "outputs": [
    {
     "name": "stdout",
     "output_type": "stream",
     "text": [
      "15\n",
      "1\n",
      "2\n",
      "125\n"
     ]
    }
   ],
   "source": [
    "a, b = map(int, input().split()) # -> map의 두번째 인자를 먼저 본 다음 첫번 째 인자에 어떤 함수가 왔는지 보면 편하다\n",
    "print(a * b)\n",
    "print(a//b) # -> 몫을 반환(정수만 출력)\n",
    "print(a/b) # -> 몫을 반환(실수까지 출력)\n",
    "print(a%b) # -> 나머지를 반환\n",
    "print(a**b) # -> a의 b제곱"
   ]
  },
  {
   "cell_type": "code",
   "execution_count": null,
   "id": "433306c6",
   "metadata": {},
   "outputs": [
    {
     "name": "stdout",
     "output_type": "stream",
     "text": [
      "<class 'float'>\n"
     ]
    }
   ],
   "source": [
    "a = 1.5\n",
    "b = 10\n",
    "print(type(a+b)) # float + int = float 이다"
   ]
  },
  {
   "cell_type": "markdown",
   "id": "0d891c5e",
   "metadata": {},
   "source": [
    "### round()\n",
    "반올림을 하는 함수\n",
    "- round(숫자, 자릿수)\n",
    "- 첫 번째 인자: 반올림할 숫자\n",
    "- 두 번째 인자: 소숫점 몇 자리까지 표시할지"
   ]
  },
  {
   "cell_type": "code",
   "execution_count": 5,
   "id": "9eb2d987",
   "metadata": {},
   "outputs": [
    {
     "name": "stdout",
     "output_type": "stream",
     "text": [
      "29.7\n"
     ]
    }
   ],
   "source": [
    "a=89/3\n",
    "round(a, 1)\n",
    "print(round(a,1))\n",
    "# print(a)"
   ]
  },
  {
   "cell_type": "code",
   "execution_count": null,
   "id": "549c8f58",
   "metadata": {},
   "outputs": [
    {
     "name": "stdout",
     "output_type": "stream",
     "text": [
      "4\n"
     ]
    }
   ],
   "source": [
    "# 만약\n",
    "a=4.5000 #이라면\n",
    "print(round(a)) # 4로 출력이 된다\n",
    "# 파이썬에서 round는 round_half_even 방식을 채택하기 때문"
   ]
  },
  {
   "cell_type": "code",
   "execution_count": null,
   "id": "a7c4455d",
   "metadata": {},
   "outputs": [
    {
     "name": "stdout",
     "output_type": "stream",
     "text": [
      "5\n"
     ]
    }
   ],
   "source": [
    "# 따라서 반올림을 할 때는\n",
    "a=4.5\n",
    "a=a+0.5\n",
    "print(int(a))\n",
    "# 이렇게 반올림을 시켜준다"
   ]
  }
 ],
 "metadata": {
  "kernelspec": {
   "display_name": "Python 3",
   "language": "python",
   "name": "python3"
  },
  "language_info": {
   "codemirror_mode": {
    "name": "ipython",
    "version": 3
   },
   "file_extension": ".py",
   "mimetype": "text/x-python",
   "name": "python",
   "nbconvert_exporter": "python",
   "pygments_lexer": "ipython3",
   "version": "3.11.9"
  }
 },
 "nbformat": 4,
 "nbformat_minor": 5
}
