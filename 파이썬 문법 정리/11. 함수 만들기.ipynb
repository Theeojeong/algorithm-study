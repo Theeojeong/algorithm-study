{
 "cells": [
  {
   "cell_type": "markdown",
   "id": "e7c5908c",
   "metadata": {},
   "source": [
    "# 함수 만들기"
   ]
  },
  {
   "cell_type": "code",
   "execution_count": 1,
   "id": "841d0598",
   "metadata": {},
   "outputs": [
    {
     "name": "stdout",
     "output_type": "stream",
     "text": [
      "3\n"
     ]
    }
   ],
   "source": [
    "def 더하기(a, b):\n",
    "    c=a+b\n",
    "    print(c)\n",
    "\n",
    "더하기(1,2)    "
   ]
  },
  {
   "cell_type": "markdown",
   "id": "d4351db9",
   "metadata": {},
   "source": [
    "### return\n",
    "1. 함수의 결과를 저장하거나 다른 곳에 활용하기위해 사용한다.  \n",
    "2. 값을 reture하고 함수를 종료한다\n",
    "3. 여러 개의 값을 반환할 수 있다 -> 튜플로 반환\n",
    "\n",
    "- print()는 화면에 출력만 하고 값을 사용할 수 없음 "
   ]
  },
  {
   "cell_type": "code",
   "execution_count": 2,
   "id": "d90a8032",
   "metadata": {},
   "outputs": [],
   "source": [
    "def add(a,b):\n",
    "    c=a+b\n",
    "    return c"
   ]
  },
  {
   "cell_type": "code",
   "execution_count": 3,
   "id": "fbe57745",
   "metadata": {},
   "outputs": [
    {
     "name": "stdout",
     "output_type": "stream",
     "text": [
      "(5, -1)\n"
     ]
    }
   ],
   "source": [
    "def add(a,b):\n",
    "    c=a+b\n",
    "    d=a-b\n",
    "    return c, d\n",
    "\n",
    "print(add(2,3))"
   ]
  },
  {
   "cell_type": "code",
   "execution_count": 5,
   "id": "2475544e",
   "metadata": {},
   "outputs": [
    {
     "name": "stdout",
     "output_type": "stream",
     "text": [
      "[False, True, True, True, True]\n"
     ]
    }
   ],
   "source": [
    "a = [12, 13, 7, 9, 19]\n",
    "\n",
    "print([i%2!=0 for i in a])"
   ]
  },
  {
   "cell_type": "code",
   "execution_count": 6,
   "id": "b8ba1eb5",
   "metadata": {},
   "outputs": [
    {
     "name": "stdout",
     "output_type": "stream",
     "text": [
      "[13, 7, 9, 19]\n"
     ]
    }
   ],
   "source": [
    "a = [12, 13, 7, 9, 19]\n",
    "\n",
    "def 홀수화(a):\n",
    "    k=[]\n",
    "    for i in a:\n",
    "        if i%2!=0:\n",
    "            k.append(i)\n",
    "    return k\n",
    "\n",
    "x=홀수화(a)\n",
    "print(x)            "
   ]
  },
  {
   "cell_type": "code",
   "execution_count": 9,
   "id": "ac9d4d29",
   "metadata": {},
   "outputs": [
    {
     "name": "stdout",
     "output_type": "stream",
     "text": [
      "[2, 3, 4, 5, 6, 7, 8, 9, 10, 11, 12]\n"
     ]
    }
   ],
   "source": [
    "a=range(2,13)\n",
    "print(list(a))"
   ]
  },
  {
   "cell_type": "markdown",
   "id": "7d399c59",
   "metadata": {},
   "source": [
    "### 소수 판독 함수 만들어보기"
   ]
  },
  {
   "cell_type": "code",
   "execution_count": 15,
   "id": "7b86632e",
   "metadata": {},
   "outputs": [
    {
     "name": "stdout",
     "output_type": "stream",
     "text": [
      "13 7 19 "
     ]
    }
   ],
   "source": [
    "def IsFrime(x):\n",
    "    for i in range(2, x):\n",
    "        if x%i==0:\n",
    "            return False\n",
    "    return True\n",
    "\n",
    "a=[12,13,7,9,19]\n",
    "\n",
    "for y in a:\n",
    "    if IsFrime(y):\n",
    "        print(y, end=\" \")"
   ]
  },
  {
   "cell_type": "markdown",
   "id": "26aaaa27",
   "metadata": {},
   "source": [
    "### 지역변수, 전역변수\n",
    "- 지역변수: 함수 안에서만 사용, 함수가 끝나면 사라짐\n",
    "- 전역변수: 함수 밖에서 선언, 프로그램 전체에서 사용 가능"
   ]
  }
 ],
 "metadata": {
  "kernelspec": {
   "display_name": "Python 3",
   "language": "python",
   "name": "python3"
  },
  "language_info": {
   "codemirror_mode": {
    "name": "ipython",
    "version": 3
   },
   "file_extension": ".py",
   "mimetype": "text/x-python",
   "name": "python",
   "nbconvert_exporter": "python",
   "pygments_lexer": "ipython3",
   "version": "3.11.9"
  }
 },
 "nbformat": 4,
 "nbformat_minor": 5
}
