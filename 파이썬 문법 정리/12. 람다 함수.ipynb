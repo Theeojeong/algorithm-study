{
 "cells": [
  {
   "cell_type": "markdown",
   "id": "c63319d1",
   "metadata": {},
   "source": [
    "# 람다 함수\n",
    "간단한 함수를 한 줄로 빠르게 만들때 사용하는 함수\n",
    "\n",
    "* lambda 매개변수: 표현식\n",
    "* 주로 함수의 인자로 함수가 필요할 때 많이 사용한다"
   ]
  },
  {
   "cell_type": "code",
   "execution_count": 2,
   "id": "4e3505e3",
   "metadata": {},
   "outputs": [
    {
     "name": "stdout",
     "output_type": "stream",
     "text": [
      "16\n"
     ]
    }
   ],
   "source": [
    "multyple=lambda x, y: x*y*2\n",
    "\n",
    "print(multyple(2, 4))"
   ]
  },
  {
   "cell_type": "markdown",
   "id": "b4cd9352",
   "metadata": {},
   "source": [
    "### sort(key=함수)\n",
    "리스트의 각 요소에 그 함수를 적용한 값을 기준으로 정렬"
   ]
  },
  {
   "cell_type": "code",
   "execution_count": 3,
   "id": "d839ccfa",
   "metadata": {},
   "outputs": [
    {
     "name": "stdout",
     "output_type": "stream",
     "text": [
      "[(5, 0), (3, 1), (1, 2)]\n"
     ]
    }
   ],
   "source": [
    "a = [(1, 2), (3, 1), (5, 0)]\n",
    "a.sort(key=lambda x: x[1])\n",
    "print(a)"
   ]
  },
  {
   "cell_type": "markdown",
   "id": "2d3dff48",
   "metadata": {},
   "source": [
    "### 람다 함수가 유용할 때"
   ]
  },
  {
   "cell_type": "markdown",
   "id": "e94d0352",
   "metadata": {},
   "source": [
    "### map()\n",
    "map(함수, 반복가능객체)  \n",
    "- 함수를 반복 가능한 객체의 각 요소에 적용하여 새로운 객체를 만든다\n",
    "- 리스트로 사용하려면 list(map())로 감싸야한다\n",
    "- 주로 간단한 변환, 일괄 처리에 많이 사용"
   ]
  },
  {
   "cell_type": "code",
   "execution_count": 9,
   "id": "0676c3b7",
   "metadata": {},
   "outputs": [
    {
     "name": "stdout",
     "output_type": "stream",
     "text": [
      "[16, 625, 1296, 2401]\n"
     ]
    }
   ],
   "source": [
    "def plus(x):\n",
    "    c=x**4\n",
    "    return c # return x**4 로도 작성 가능, 더 깔끔\n",
    "\n",
    "a=[2,5,6,7]\n",
    "\n",
    "result=map(plus,a) \n",
    "print(list(result))\n",
    "# 이렇게 위에 따로 함수를 만들고 map에 넣었지만 "
   ]
  },
  {
   "cell_type": "code",
   "execution_count": 10,
   "id": "6c0db4fb",
   "metadata": {},
   "outputs": [
    {
     "name": "stdout",
     "output_type": "stream",
     "text": [
      "[16, 625, 1296, 2401]\n"
     ]
    }
   ],
   "source": [
    "# 바로 람다로 map에 넣는 방법이 있다\n",
    "\n",
    "print(list(map(lambda x:x**4, a)))"
   ]
  }
 ],
 "metadata": {
  "kernelspec": {
   "display_name": "Python 3",
   "language": "python",
   "name": "python3"
  },
  "language_info": {
   "codemirror_mode": {
    "name": "ipython",
    "version": 3
   },
   "file_extension": ".py",
   "mimetype": "text/x-python",
   "name": "python",
   "nbconvert_exporter": "python",
   "pygments_lexer": "ipython3",
   "version": "3.11.9"
  }
 },
 "nbformat": 4,
 "nbformat_minor": 5
}
