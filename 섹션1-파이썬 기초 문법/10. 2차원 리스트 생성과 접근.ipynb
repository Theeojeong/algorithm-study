{
 "cells": [
  {
   "cell_type": "markdown",
   "id": "d7a5428e",
   "metadata": {},
   "source": [
    "# 2차원 리스트 생성과 접근"
   ]
  },
  {
   "cell_type": "markdown",
   "id": "44b3ce7f",
   "metadata": {},
   "source": [
    "### 1차원 리스트의 곱셈"
   ]
  },
  {
   "cell_type": "code",
   "execution_count": 1,
   "id": "27affb8f",
   "metadata": {},
   "outputs": [
    {
     "name": "stdout",
     "output_type": "stream",
     "text": [
      "[0, 0, 0]\n"
     ]
    }
   ],
   "source": [
    "a=[0]*3\n",
    "print(a)"
   ]
  },
  {
   "cell_type": "markdown",
   "id": "17106672",
   "metadata": {},
   "source": [
    "### 2차원 리스트의 곱셈\n",
    "2차원 리스트란 리스트 안에 또 다른 리스트가 들어있는 구조다\n",
    "\n",
    "참고:\n",
    "- 리스트 컴프리헨션에서 _1_ for _2_ in _3_ 이 있다면 2->3->1 순서로 해석하면 된다\n",
    "    - 1. 반복할 대상을 먼저 정한다 ->3\n",
    "    - 2. 반복할 때마다 3에서 값을 하나씩 꺼내서 2에 담는다\n",
    "    - 3. 꺼낸 값으로 1을 계산해서 리스트에 담는다"
   ]
  },
  {
   "cell_type": "code",
   "execution_count": 4,
   "id": "cf8788ca",
   "metadata": {},
   "outputs": [
    {
     "name": "stdout",
     "output_type": "stream",
     "text": [
      "[[0, 0, 0], [0, 0, 0], [0, 0, 0]]\n"
     ]
    }
   ],
   "source": [
    "a=[[0]*3 for _ in range(3)]\n",
    "print(a)"
   ]
  },
  {
   "cell_type": "code",
   "execution_count": 5,
   "id": "5027f851",
   "metadata": {},
   "outputs": [
    {
     "data": {
      "text/plain": [
       "[[0, 9, 0], [0, 0, 0], [0, 0, 0]]"
      ]
     },
     "execution_count": 5,
     "metadata": {},
     "output_type": "execute_result"
    }
   ],
   "source": [
    "a[0][1]=9\n",
    "a"
   ]
  },
  {
   "cell_type": "markdown",
   "id": "5f050308",
   "metadata": {},
   "source": [
    "### 이중 for문을 직관적으로 이해하기\n",
    "바깥쪽 for문이 한 번 실행될 때마다, 안쪽 for문을 처음부터 끝까지 모두 실행한다"
   ]
  },
  {
   "cell_type": "code",
   "execution_count": 15,
   "id": "95ee09a8",
   "metadata": {},
   "outputs": [
    {
     "name": "stdout",
     "output_type": "stream",
     "text": [
      "[[0, 9, 0], [8, 0, 0], [0, 0, 3]]\n",
      "0 9 0 \n",
      "8 0 0 \n",
      "0 0 3 \n"
     ]
    }
   ],
   "source": [
    "print(a)\n",
    "\n",
    "for x in a: \n",
    "    for y in x:\n",
    "        print(y, end=\" \")\n",
    "    print()"
   ]
  }
 ],
 "metadata": {
  "kernelspec": {
   "display_name": "Python 3",
   "language": "python",
   "name": "python3"
  },
  "language_info": {
   "codemirror_mode": {
    "name": "ipython",
    "version": 3
   },
   "file_extension": ".py",
   "mimetype": "text/x-python",
   "name": "python",
   "nbconvert_exporter": "python",
   "pygments_lexer": "ipython3",
   "version": "3.11.9"
  }
 },
 "nbformat": 4,
 "nbformat_minor": 5
}
