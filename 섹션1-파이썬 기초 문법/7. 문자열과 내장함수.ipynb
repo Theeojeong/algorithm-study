{
 "cells": [
  {
   "cell_type": "markdown",
   "id": "607136c1",
   "metadata": {},
   "source": [
    "# 문자열과 내장함수"
   ]
  },
  {
   "cell_type": "markdown",
   "id": "e2704de2",
   "metadata": {},
   "source": [
    "### uper()\n",
    "모든 문자열을 모두 대문자화 시킨다(출력만, 원본은 건드리지 않음)"
   ]
  },
  {
   "cell_type": "code",
   "execution_count": 1,
   "id": "d6a6c63f",
   "metadata": {},
   "outputs": [
    {
     "name": "stdout",
     "output_type": "stream",
     "text": [
      "IT IS TIME\n"
     ]
    }
   ],
   "source": [
    "msg=\"It is Time\"\n",
    "\n",
    "print(msg.upper())"
   ]
  },
  {
   "cell_type": "markdown",
   "id": "70f11bb0",
   "metadata": {},
   "source": [
    "### lower()\n",
    "모든 문자열을 모두 소문자화 시킨다(출력만, 원본은 건드리지 않음)"
   ]
  },
  {
   "cell_type": "code",
   "execution_count": 2,
   "id": "75a37430",
   "metadata": {},
   "outputs": [
    {
     "name": "stdout",
     "output_type": "stream",
     "text": [
      "it is time\n"
     ]
    }
   ],
   "source": [
    "print(msg.lower())"
   ]
  },
  {
   "cell_type": "markdown",
   "id": "6c6c4a4d",
   "metadata": {},
   "source": [
    "### find()\n",
    "문자열에서 특정 문자나 문자열이 인덱스를 찾아주는 내장 함수"
   ]
  },
  {
   "cell_type": "code",
   "execution_count": 5,
   "id": "e538755a",
   "metadata": {},
   "outputs": [
    {
     "name": "stdout",
     "output_type": "stream",
     "text": [
      "1\n"
     ]
    },
    {
     "data": {
      "text/plain": [
       "'IT IS TIME'"
      ]
     },
     "execution_count": 5,
     "metadata": {},
     "output_type": "execute_result"
    }
   ],
   "source": [
    "tmp=msg.upper()\n",
    "print(tmp.find(\"T\"))\n",
    "tmp"
   ]
  },
  {
   "cell_type": "markdown",
   "id": "28270c80",
   "metadata": {},
   "source": [
    "### count()"
   ]
  },
  {
   "cell_type": "code",
   "execution_count": 6,
   "id": "a4963cdd",
   "metadata": {},
   "outputs": [
    {
     "data": {
      "text/plain": [
       "2"
      ]
     },
     "execution_count": 6,
     "metadata": {},
     "output_type": "execute_result"
    }
   ],
   "source": [
    "tmp.count(\"T\")"
   ]
  },
  {
   "cell_type": "markdown",
   "id": "759cb99b",
   "metadata": {},
   "source": [
    "### 슬라이스"
   ]
  },
  {
   "cell_type": "code",
   "execution_count": 11,
   "id": "5b9b2802",
   "metadata": {},
   "outputs": [
    {
     "name": "stdout",
     "output_type": "stream",
     "text": [
      "It is Time\n"
     ]
    },
    {
     "data": {
      "text/plain": [
       "'It '"
      ]
     },
     "execution_count": 11,
     "metadata": {},
     "output_type": "execute_result"
    }
   ],
   "source": [
    "print(msg)\n",
    "msg[:3]"
   ]
  },
  {
   "cell_type": "markdown",
   "id": "932ba970",
   "metadata": {},
   "source": [
    "### len()\n",
    "공백도 문자에 포함된다"
   ]
  },
  {
   "cell_type": "code",
   "execution_count": 13,
   "id": "acd07fca",
   "metadata": {},
   "outputs": [
    {
     "name": "stdout",
     "output_type": "stream",
     "text": [
      "It is Time\n"
     ]
    },
    {
     "data": {
      "text/plain": [
       "10"
      ]
     },
     "execution_count": 13,
     "metadata": {},
     "output_type": "execute_result"
    }
   ],
   "source": [
    "print(msg)\n",
    "len(msg)"
   ]
  },
  {
   "cell_type": "code",
   "execution_count": 18,
   "id": "4073f54e",
   "metadata": {},
   "outputs": [
    {
     "name": "stdout",
     "output_type": "stream",
     "text": [
      "It is Time"
     ]
    }
   ],
   "source": [
    "for i in range(len(msg)):\n",
    "    print(msg[i], end=\"\") # 기본적으로 print()는 출력이 끝나면 자동으로 줄바꿈을 한다.\n",
    "                            # 하지만 end=''로 설정하면 줄바꿈 대신 빈 문자열이 들어간다"
   ]
  },
  {
   "cell_type": "code",
   "execution_count": 19,
   "id": "12e29b11",
   "metadata": {},
   "outputs": [
    {
     "name": "stdout",
     "output_type": "stream",
     "text": [
      "It is Time"
     ]
    }
   ],
   "source": [
    "for x in msg:\n",
    "    print(x, end=\"\")"
   ]
  },
  {
   "cell_type": "markdown",
   "id": "8094ff65",
   "metadata": {},
   "source": [
    "### isupper(), islower()\n",
    "대/소문자면 참이된다\n",
    "\n",
    "### isalpha()\n",
    "알파벳 문자면 참이된다"
   ]
  },
  {
   "cell_type": "code",
   "execution_count": 20,
   "id": "1ca5257b",
   "metadata": {},
   "outputs": [
    {
     "data": {
      "text/plain": [
       "'It is Time'"
      ]
     },
     "execution_count": 20,
     "metadata": {},
     "output_type": "execute_result"
    }
   ],
   "source": [
    "msg"
   ]
  },
  {
   "cell_type": "code",
   "execution_count": 21,
   "id": "a7ee9b87",
   "metadata": {},
   "outputs": [
    {
     "name": "stdout",
     "output_type": "stream",
     "text": [
      "IT"
     ]
    }
   ],
   "source": [
    "for x in msg:\n",
    "    if x.isupper():\n",
    "        print(x, end=\"\")"
   ]
  },
  {
   "cell_type": "code",
   "execution_count": 23,
   "id": "f6d5fb65",
   "metadata": {},
   "outputs": [
    {
     "name": "stdout",
     "output_type": "stream",
     "text": [
      "ItisTime"
     ]
    }
   ],
   "source": [
    "for i in msg:\n",
    "    if i.isalpha():\n",
    "        print(i, end=\"\") \n",
    "# 공백없이 출력"
   ]
  },
  {
   "cell_type": "markdown",
   "id": "be2518ad",
   "metadata": {},
   "source": [
    "### ord()\n",
    "유니코드(아스키) 정수 값을 반환한다\n",
    "\n",
    "A(65) ~ Z(90)"
   ]
  },
  {
   "cell_type": "code",
   "execution_count": null,
   "id": "91420d52",
   "metadata": {},
   "outputs": [
    {
     "name": "stdout",
     "output_type": "stream",
     "text": [
      "6590"
     ]
    }
   ],
   "source": [
    "tmp='AZ'\n",
    "for i in tmp:\n",
    "    print(ord(i), end='')"
   ]
  },
  {
   "cell_type": "markdown",
   "id": "2e8ee20c",
   "metadata": {},
   "source": [
    "### chr()\n",
    "ord()의 반대다. 정수 값을 문자로 바꿔준다"
   ]
  },
  {
   "cell_type": "code",
   "execution_count": 30,
   "id": "0d2a7d36",
   "metadata": {},
   "outputs": [
    {
     "name": "stdout",
     "output_type": "stream",
     "text": [
      "a\n",
      "b\n"
     ]
    }
   ],
   "source": [
    "asm=[97, 98]\n",
    "for x in asm:\n",
    "    print(chr(x))"
   ]
  }
 ],
 "metadata": {
  "kernelspec": {
   "display_name": "Python 3",
   "language": "python",
   "name": "python3"
  },
  "language_info": {
   "codemirror_mode": {
    "name": "ipython",
    "version": 3
   },
   "file_extension": ".py",
   "mimetype": "text/x-python",
   "name": "python",
   "nbconvert_exporter": "python",
   "pygments_lexer": "ipython3",
   "version": "3.11.9"
  }
 },
 "nbformat": 4,
 "nbformat_minor": 5
}
