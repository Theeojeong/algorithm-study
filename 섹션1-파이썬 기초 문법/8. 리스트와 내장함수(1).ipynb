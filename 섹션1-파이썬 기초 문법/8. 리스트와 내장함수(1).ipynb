{
 "cells": [
  {
   "cell_type": "markdown",
   "id": "39670545",
   "metadata": {},
   "source": [
    "# 리스트와 내장함수(1)"
   ]
  },
  {
   "cell_type": "code",
   "execution_count": null,
   "id": "691b1d57",
   "metadata": {},
   "outputs": [
    {
     "name": "stdout",
     "output_type": "stream",
     "text": [
      "[]\n",
      "[]\n"
     ]
    }
   ],
   "source": [
    "a=[]\n",
    "print(a)\n",
    "\n",
    "b=list()\n",
    "print(b)"
   ]
  },
  {
   "cell_type": "markdown",
   "id": "7a1960ce",
   "metadata": {},
   "source": [
    "### 리스트끼리 더하기 가능"
   ]
  },
  {
   "cell_type": "code",
   "execution_count": 9,
   "id": "480afb67",
   "metadata": {},
   "outputs": [
    {
     "name": "stdout",
     "output_type": "stream",
     "text": [
      "[1, 2, 3, 4, 5, 1, 2, 3, 4, 5, 6, 7, 8, 9]\n"
     ]
    }
   ],
   "source": [
    "b=list(range(1,10))\n",
    "a=[1,2,3,4,5]\n",
    "\n",
    "c=a+b\n",
    "\n",
    "print(c)"
   ]
  },
  {
   "cell_type": "markdown",
   "id": "6fc0a102",
   "metadata": {},
   "source": [
    "### append()\n",
    "리스트에 요소를 추가하는 함수"
   ]
  },
  {
   "cell_type": "code",
   "execution_count": 12,
   "id": "156e2a5d",
   "metadata": {},
   "outputs": [
    {
     "data": {
      "text/plain": [
       "[1, 2, 3, 4, 5, [1, 2, 3, 4, 5, 6, 7, 8, 9], 'b']"
      ]
     },
     "execution_count": 12,
     "metadata": {},
     "output_type": "execute_result"
    }
   ],
   "source": [
    "a.append(\"b\")\n",
    "a"
   ]
  },
  {
   "cell_type": "markdown",
   "id": "fcf8c9e4",
   "metadata": {},
   "source": [
    "### insert()\n",
    "- 원하는 위치(인덱스)에 값을 삽입하는 함수\n",
    "- 기존 값은 오른쪽으로 한 칸씩 밀린다"
   ]
  },
  {
   "cell_type": "code",
   "execution_count": 21,
   "id": "e39b0199",
   "metadata": {},
   "outputs": [
    {
     "data": {
      "text/plain": [
       "[100, 1, 2, 3, 4, 5]"
      ]
     },
     "execution_count": 21,
     "metadata": {},
     "output_type": "execute_result"
    }
   ],
   "source": [
    "a=[1,2,3,4,5]\n",
    "a\n",
    "\n",
    "a.insert(0, 100)\n",
    "a"
   ]
  },
  {
   "cell_type": "markdown",
   "id": "1b698259",
   "metadata": {},
   "source": [
    "### pop()\n",
    "- 그냥 pop() 사용 시 맨 뒤의 인덱스 요소가 빠진다\n",
    "- pop안에 인덱스를 넣으면 해당 위치의 요소를 뺀다"
   ]
  },
  {
   "cell_type": "code",
   "execution_count": 36,
   "id": "d8b1bf76",
   "metadata": {},
   "outputs": [
    {
     "data": {
      "text/plain": [
       "[1, 3, 4, 5]"
      ]
     },
     "execution_count": 36,
     "metadata": {},
     "output_type": "execute_result"
    }
   ],
   "source": [
    "a=[1,2,3,4,5]\n",
    "a.pop(1)\n",
    "a"
   ]
  },
  {
   "cell_type": "markdown",
   "id": "faa71d2f",
   "metadata": {},
   "source": [
    "### remove()\n",
    "요소를 찾아서 제거하는 함수"
   ]
  },
  {
   "cell_type": "code",
   "execution_count": 38,
   "id": "80cbadfc",
   "metadata": {},
   "outputs": [
    {
     "data": {
      "text/plain": [
       "[1, 3, 4]"
      ]
     },
     "execution_count": 38,
     "metadata": {},
     "output_type": "execute_result"
    }
   ],
   "source": [
    "a\n",
    "a.remove(5)\n",
    "a"
   ]
  },
  {
   "cell_type": "markdown",
   "id": "fb5e1911",
   "metadata": {},
   "source": [
    "### index()\n",
    "해당 요소의 인덱스(위치)를 알려주는 함수"
   ]
  },
  {
   "cell_type": "code",
   "execution_count": 44,
   "id": "9d73dbd0",
   "metadata": {},
   "outputs": [
    {
     "name": "stdout",
     "output_type": "stream",
     "text": [
      "2\n"
     ]
    }
   ],
   "source": [
    "a=[1,2,3,3,3,4,5]\n",
    "print(a.index(3))"
   ]
  },
  {
   "cell_type": "markdown",
   "id": "ce015503",
   "metadata": {},
   "source": [
    "### sum()\n",
    "반복 가능한 객체(list, tuple, set 등등)의 모든 요소를 더해주는 함수"
   ]
  },
  {
   "cell_type": "code",
   "execution_count": 45,
   "id": "56f17179",
   "metadata": {},
   "outputs": [
    {
     "name": "stdout",
     "output_type": "stream",
     "text": [
      "55\n"
     ]
    }
   ],
   "source": [
    "a=list(range(1,11))\n",
    "print(sum(a))"
   ]
  },
  {
   "cell_type": "markdown",
   "id": "9eab4807",
   "metadata": {},
   "source": [
    "### max(), min()\n",
    "반복 가능한 객체(list, tuple, set 등등)중 가장 큰/작은 요소를 반환하는 함수\n",
    "\n",
    "- 인자값에서 최대/최소를 찾아준다"
   ]
  },
  {
   "cell_type": "code",
   "execution_count": 47,
   "id": "7497cc39",
   "metadata": {},
   "outputs": [
    {
     "name": "stdout",
     "output_type": "stream",
     "text": [
      "10\n"
     ]
    }
   ],
   "source": [
    "a\n",
    "print(max(a))"
   ]
  },
  {
   "cell_type": "code",
   "execution_count": null,
   "id": "2809e4aa",
   "metadata": {},
   "outputs": [
    {
     "name": "stdout",
     "output_type": "stream",
     "text": [
      "5\n"
     ]
    }
   ],
   "source": [
    "print(max(1,2,3,4,5)) # 인자가 숫자라도 가능"
   ]
  },
  {
   "cell_type": "markdown",
   "id": "73af72e8",
   "metadata": {},
   "source": [
    "# random 모듈 활용\n",
    "- import random"
   ]
  },
  {
   "cell_type": "markdown",
   "id": "c7d6a702",
   "metadata": {},
   "source": [
    "### suffle()\n",
    "- 시퀀스 요소들의 순서를 무작위로 섞음\n",
    "- 원본 변경"
   ]
  },
  {
   "cell_type": "code",
   "execution_count": 50,
   "id": "64c26bfd",
   "metadata": {},
   "outputs": [
    {
     "data": {
      "text/plain": [
       "[9, 4, 10, 5, 8, 1, 3, 6, 2, 7]"
      ]
     },
     "execution_count": 50,
     "metadata": {},
     "output_type": "execute_result"
    }
   ],
   "source": [
    "a=list(range(1,11))\n",
    "a\n",
    "\n",
    "import random as r\n",
    "\n",
    "r.shuffle(a)\n",
    "a"
   ]
  },
  {
   "cell_type": "markdown",
   "id": "214bb78a",
   "metadata": {},
   "source": [
    "### sort()\n",
    "random 모듈의 내장함수 아님\n",
    "- 오름차순으로 정렬해주는 함수"
   ]
  },
  {
   "cell_type": "code",
   "execution_count": 53,
   "id": "55528bcd",
   "metadata": {},
   "outputs": [
    {
     "data": {
      "text/plain": [
       "[1, 2, 3, 4, 5, 6, 7, 8, 9, 10]"
      ]
     },
     "execution_count": 53,
     "metadata": {},
     "output_type": "execute_result"
    }
   ],
   "source": [
    "a.sort()\n",
    "a"
   ]
  },
  {
   "cell_type": "markdown",
   "id": "f36ed811",
   "metadata": {},
   "source": [
    "### sort(reverse=True)\n",
    "내림차순으로 정렬해주는 함수"
   ]
  },
  {
   "cell_type": "code",
   "execution_count": 57,
   "id": "f62f2b69",
   "metadata": {},
   "outputs": [
    {
     "data": {
      "text/plain": [
       "[10, 9, 8, 7, 6, 5, 4, 3, 2, 1]"
      ]
     },
     "execution_count": 57,
     "metadata": {},
     "output_type": "execute_result"
    }
   ],
   "source": [
    "r.shuffle(a)\n",
    "a\n",
    "\n",
    "a.sort(reverse=True)\n",
    "a"
   ]
  },
  {
   "cell_type": "markdown",
   "id": "17c59a82",
   "metadata": {},
   "source": [
    "### clear()\n",
    "list, dict, set의 모든 요소를 삭제하는 함수\n"
   ]
  },
  {
   "cell_type": "code",
   "execution_count": 59,
   "id": "0ca20396",
   "metadata": {},
   "outputs": [
    {
     "data": {
      "text/plain": [
       "[]"
      ]
     },
     "execution_count": 59,
     "metadata": {},
     "output_type": "execute_result"
    }
   ],
   "source": [
    "a\n",
    "a.clear()\n",
    "a"
   ]
  },
  {
   "cell_type": "markdown",
   "id": "90ebcc5e",
   "metadata": {},
   "source": [
    "### set()\n",
    "- 중복을 허용하지 않고, 순서가 없는 자료형(list, tuple과 같은)  \n",
    "ex) {1, 2, 4}\n",
    "- set(반복가능한객체)"
   ]
  },
  {
   "cell_type": "code",
   "execution_count": null,
   "id": "a3e31145",
   "metadata": {},
   "outputs": [],
   "source": [
    "lst = [1, 2, 2, 3]\n",
    "s = set(lst)\n",
    "lst2 = list(s)\n",
    "print(lst2)  # [1, 2, 3] (순서는 보장되지 않음)"
   ]
  }
 ],
 "metadata": {
  "kernelspec": {
   "display_name": "Python 3",
   "language": "python",
   "name": "python3"
  },
  "language_info": {
   "codemirror_mode": {
    "name": "ipython",
    "version": 3
   },
   "file_extension": ".py",
   "mimetype": "text/x-python",
   "name": "python",
   "nbconvert_exporter": "python",
   "pygments_lexer": "ipython3",
   "version": "3.11.9"
  }
 },
 "nbformat": 4,
 "nbformat_minor": 5
}
