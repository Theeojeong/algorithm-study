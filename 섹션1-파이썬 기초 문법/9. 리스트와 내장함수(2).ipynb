{
 "cells": [
  {
   "cell_type": "markdown",
   "id": "cde3825e",
   "metadata": {},
   "source": [
    "# 리스트와 내장함수(2)"
   ]
  },
  {
   "cell_type": "code",
   "execution_count": 2,
   "id": "49499c38",
   "metadata": {},
   "outputs": [
    {
     "name": "stdout",
     "output_type": "stream",
     "text": [
      "23 123 43 54 61 "
     ]
    }
   ],
   "source": [
    "a=[23,123,43,54,61]\n",
    "\n",
    "for i in range(len(a)):\n",
    "    print(a[i], end=\" \")"
   ]
  },
  {
   "cell_type": "code",
   "execution_count": 3,
   "id": "6dc4e471",
   "metadata": {},
   "outputs": [
    {
     "name": "stdout",
     "output_type": "stream",
     "text": [
      "23 123 43 54 61 "
     ]
    }
   ],
   "source": [
    "for x in a:\n",
    "    print(x, end=\" \")"
   ]
  },
  {
   "cell_type": "markdown",
   "id": "20211601",
   "metadata": {},
   "source": [
    "### 홀수 출력"
   ]
  },
  {
   "cell_type": "code",
   "execution_count": 6,
   "id": "ce8fa74b",
   "metadata": {},
   "outputs": [
    {
     "name": "stdout",
     "output_type": "stream",
     "text": [
      "23 123 43 61 "
     ]
    }
   ],
   "source": [
    "a\n",
    "\n",
    "for x in a:\n",
    "    if x%2!=0:\n",
    "        print(x, end=\" \")"
   ]
  },
  {
   "cell_type": "markdown",
   "id": "99503042",
   "metadata": {},
   "source": [
    "### enumerate()\n",
    "인덱스와 해당 요소를 반환하는 함수\n",
    "- 반복문에서 인덱스와 값을 동시에 얻고 싶을 때 사용\n"
   ]
  },
  {
   "cell_type": "code",
   "execution_count": 14,
   "id": "071a015e",
   "metadata": {},
   "outputs": [
    {
     "name": "stdout",
     "output_type": "stream",
     "text": [
      "0\n",
      "1\n",
      "2\n",
      "3\n",
      "4\n"
     ]
    }
   ],
   "source": [
    "for x, i in enumerate(a):\n",
    "    print(x)"
   ]
  },
  {
   "cell_type": "markdown",
   "id": "4ed11de9",
   "metadata": {},
   "source": [
    "### 튜플(tuple)\n",
    "튜플의 요소는 리스트와 달리 변경이 불가하다"
   ]
  },
  {
   "cell_type": "code",
   "execution_count": 18,
   "id": "749f784d",
   "metadata": {},
   "outputs": [
    {
     "name": "stdout",
     "output_type": "stream",
     "text": [
      "0 23\n",
      "1 123\n",
      "2 43\n",
      "3 54\n",
      "4 61\n"
     ]
    }
   ],
   "source": [
    "a\n",
    "\n",
    "for index, value in enumerate(a):\n",
    "    print(index, value)"
   ]
  },
  {
   "cell_type": "markdown",
   "id": "aaccfa1a",
   "metadata": {},
   "source": [
    "### all()\n",
    "all(반복 가능한 객체) \n",
    "- 반복 가능한 객체의 모든 요소가 참이면 True를 반환"
   ]
  },
  {
   "cell_type": "markdown",
   "id": "e2732f15",
   "metadata": {},
   "source": [
    "### 리스트 컴프리헨션\n",
    "반복문을 한 줄로 간단하게 쓰면서, 반복문 결과를 리스트로 만드는 문법\n",
    "- [표현식 for x in a]:\n",
    "    - a의 각 요소 x에 대해 표현식의 결과를 리스트로 만들어라"
   ]
  },
  {
   "cell_type": "code",
   "execution_count": null,
   "id": "f5e3639c",
   "metadata": {},
   "outputs": [
    {
     "name": "stdout",
     "output_type": "stream",
     "text": [
      "[23, 123, 43, 54, 61]\n",
      "(4, 61)\n"
     ]
    }
   ],
   "source": [
    "# print(a)\n",
    "print(a)\n",
    "\n",
    "if all([x<124 for x in a]):\n",
    "    print(x)"
   ]
  },
  {
   "cell_type": "markdown",
   "id": "ddc3ad82",
   "metadata": {},
   "source": [
    "### any()\n",
    "리스트 컴프리헨션에서 한번이라도 참인 요소가 있으면\n",
    "True를 반환한다."
   ]
  },
  {
   "cell_type": "code",
   "execution_count": 39,
   "id": "9ece3372",
   "metadata": {},
   "outputs": [
    {
     "name": "stdout",
     "output_type": "stream",
     "text": [
      "[23, 123, 43, 54, 61]\n",
      "130보다 큰 수가 없습니다.\n"
     ]
    }
   ],
   "source": [
    "print(a)\n",
    "\n",
    "if any(x>130 for x in a):\n",
    "    print(\"130보다 큰 수가 있습니다.\")\n",
    "else:\n",
    "    print(\"130보다 큰 수가 없습니다.\")"
   ]
  }
 ],
 "metadata": {
  "kernelspec": {
   "display_name": "Python 3",
   "language": "python",
   "name": "python3"
  },
  "language_info": {
   "codemirror_mode": {
    "name": "ipython",
    "version": 3
   },
   "file_extension": ".py",
   "mimetype": "text/x-python",
   "name": "python",
   "nbconvert_exporter": "python",
   "pygments_lexer": "ipython3",
   "version": "3.11.9"
  }
 },
 "nbformat": 4,
 "nbformat_minor": 5
}
