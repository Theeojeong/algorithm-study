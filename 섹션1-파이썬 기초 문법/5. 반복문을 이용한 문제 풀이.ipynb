{
 "cells": [
  {
   "cell_type": "markdown",
   "id": "ceb51e8c",
   "metadata": {},
   "source": [
    "# 반복문을 이용한 문제풀이\n",
    "    1) 1부터 n까지 홀수출력하기\n",
    "    2) 1부터 n까지의 합 구하기\n",
    "    3) n의 약수 출력하기"
   ]
  },
  {
   "cell_type": "markdown",
   "id": "709da77a",
   "metadata": {},
   "source": [
    "### 1) 1부터 n까지 홀수출력하기"
   ]
  },
  {
   "cell_type": "code",
   "execution_count": 25,
   "id": "4aa145e3",
   "metadata": {},
   "outputs": [
    {
     "name": "stdout",
     "output_type": "stream",
     "text": [
      "1\n",
      "3\n",
      "5\n",
      "7\n",
      "9\n",
      "11\n",
      "13\n",
      "15\n",
      "17\n",
      "19\n"
     ]
    }
   ],
   "source": [
    "n=input()\n",
    "for i in range(1,int(n)+1):\n",
    "    if i%2==0:\n",
    "        continue\n",
    "    print(i)"
   ]
  },
  {
   "cell_type": "markdown",
   "id": "fe867505",
   "metadata": {},
   "source": [
    "### 2) 1부터 n까지의 합 구하기"
   ]
  },
  {
   "cell_type": "markdown",
   "id": "084a72af",
   "metadata": {},
   "source": [
    "### 방법1"
   ]
  },
  {
   "cell_type": "code",
   "execution_count": null,
   "id": "b21f62cf",
   "metadata": {},
   "outputs": [
    {
     "name": "stdout",
     "output_type": "stream",
     "text": [
      "5050\n"
     ]
    }
   ],
   "source": [
    "n=input()\n",
    "n=int(n)\n",
    "\n",
    "a=[]\n",
    "for i in range(1,n+1):\n",
    "    a.append(i)\n",
    "\n",
    "b=sum(a)\n",
    "\n",
    "print(b)"
   ]
  },
  {
   "cell_type": "markdown",
   "id": "6c3e1056",
   "metadata": {},
   "source": [
    "### 방법2"
   ]
  },
  {
   "cell_type": "code",
   "execution_count": null,
   "id": "62de4add",
   "metadata": {},
   "outputs": [],
   "source": [
    "n=int(input())\n",
    "\n",
    "print(sum(range(1,n+1)))"
   ]
  },
  {
   "cell_type": "markdown",
   "id": "e4bc20f2",
   "metadata": {},
   "source": [
    "### 방법3"
   ]
  },
  {
   "cell_type": "code",
   "execution_count": 26,
   "id": "8cd82c69",
   "metadata": {},
   "outputs": [
    {
     "name": "stdout",
     "output_type": "stream",
     "text": [
      "55\n"
     ]
    }
   ],
   "source": [
    "n=int(input())\n",
    "sum=0\n",
    "\n",
    "for i in range(1,n+1):\n",
    "    sum=sum+i\n",
    "print(sum)\n"
   ]
  },
  {
   "cell_type": "markdown",
   "id": "b1c20ec3",
   "metadata": {},
   "source": [
    "### 3) n의 약수 출력하기 "
   ]
  },
  {
   "cell_type": "code",
   "execution_count": null,
   "id": "94fd69dc",
   "metadata": {},
   "outputs": [
    {
     "name": "stdout",
     "output_type": "stream",
     "text": [
      "1\n",
      "5\n",
      "11\n",
      "55\n"
     ]
    }
   ],
   "source": [
    "n=input()\n",
    "n=int(n)\n",
    "\n",
    "for i in range(1,int(n)+1):\n",
    "    if int(n)%i==0:\n",
    "        print(i)\n",
    "    else: # -> 필요없음, if 가 거짓이면 자동으로 넘김\n",
    "        continue    "
   ]
  }
 ],
 "metadata": {
  "kernelspec": {
   "display_name": "Python 3",
   "language": "python",
   "name": "python3"
  },
  "language_info": {
   "codemirror_mode": {
    "name": "ipython",
    "version": 3
   },
   "file_extension": ".py",
   "mimetype": "text/x-python",
   "name": "python",
   "nbconvert_exporter": "python",
   "pygments_lexer": "ipython3",
   "version": "3.11.9"
  }
 },
 "nbformat": 4,
 "nbformat_minor": 5
}
