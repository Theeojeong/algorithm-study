{
 "cells": [
  {
   "cell_type": "markdown",
   "id": "4ed36840",
   "metadata": {},
   "source": [
    "# 조건문 if(분기, 중첩)"
   ]
  },
  {
   "cell_type": "markdown",
   "id": "e91741d1",
   "metadata": {},
   "source": [
    "* = = -> 같다\n",
    "* ! = -> 같지 않다"
   ]
  },
  {
   "cell_type": "markdown",
   "id": "55bb7118",
   "metadata": {},
   "source": [
    "### 중첩 if 문"
   ]
  },
  {
   "cell_type": "code",
   "execution_count": null,
   "id": "33bcb02a",
   "metadata": {},
   "outputs": [],
   "source": [
    "x = 15\n",
    "\n",
    "if x>=10:\n",
    "    if x%2==1:\n",
    "        print(\"x는: 15\")"
   ]
  },
  {
   "cell_type": "markdown",
   "id": "3bedc0cb",
   "metadata": {},
   "source": [
    "### and(등기문)"
   ]
  },
  {
   "cell_type": "code",
   "execution_count": 6,
   "id": "59b4a48a",
   "metadata": {},
   "outputs": [
    {
     "name": "stdout",
     "output_type": "stream",
     "text": [
      "x는 7\n"
     ]
    }
   ],
   "source": [
    "x = 7\n",
    "\n",
    "if x>0 and x<10: # -> and\n",
    "    print(\"x는 7\")\n"
   ]
  },
  {
   "cell_type": "code",
   "execution_count": 7,
   "id": "577c3b10",
   "metadata": {},
   "outputs": [
    {
     "name": "stdout",
     "output_type": "stream",
     "text": [
      "x는 7\n"
     ]
    }
   ],
   "source": [
    "# python은 and 연산 안해도 됨\n",
    "x = 7\n",
    "\n",
    "if 0<x<10:\n",
    "    print(\"x는 7\")"
   ]
  },
  {
   "cell_type": "markdown",
   "id": "c5b42dca",
   "metadata": {},
   "source": [
    "### if else(분기문)"
   ]
  },
  {
   "cell_type": "code",
   "execution_count": 10,
   "id": "33b38d48",
   "metadata": {},
   "outputs": [
    {
     "name": "stdout",
     "output_type": "stream",
     "text": [
      "x는 음수\n"
     ]
    }
   ],
   "source": [
    "x = -2\n",
    "\n",
    "if x>0:\n",
    "    print(\"x는 양수\")\n",
    "else:\n",
    "    print(\"x는 음수\")"
   ]
  },
  {
   "cell_type": "markdown",
   "id": "a45f236b",
   "metadata": {},
   "source": [
    "### 다중 if문(elif)\n",
    "\n",
    "1. if 두번 사용과 elif 사용은 차이가 있음\n",
    "    * 조건이 겹치지 않으면 결과는 같을 수 있음\n",
    "    * 하지만 조건이 겹치면 if 두번은 여러번 실행, 즉 각각의 if를 독립적으로 실행한다\n",
    "    * elif는 한 번만 실행\n",
    "따라서 보통 elif를 사용하는 것이 안전하고, 의도한 대로 동작한다\n",
    "\n",
    "2. if else는 하나의 문장구조이다"
   ]
  },
  {
   "cell_type": "code",
   "execution_count": 19,
   "id": "5bec7938",
   "metadata": {},
   "outputs": [
    {
     "name": "stdout",
     "output_type": "stream",
     "text": [
      "A학점\n"
     ]
    }
   ],
   "source": [
    "# 90점 이상은 A학점, 80점 이상은 B학점\n",
    "\n",
    "x = 90\n",
    "\n",
    "if x>=90:\n",
    "    print(\"A학점\")\n",
    "elif x>=80:\n",
    "    print(\"B학점\")\n",
    "elif x>=70:\n",
    "    print(\"C학점\")\n",
    "elif x>=60:\n",
    "    print(\"D학점\")\n",
    "else:\n",
    "    print(\"낙제\")"
   ]
  }
 ],
 "metadata": {
  "kernelspec": {
   "display_name": "Python 3",
   "language": "python",
   "name": "python3"
  },
  "language_info": {
   "codemirror_mode": {
    "name": "ipython",
    "version": 3
   },
   "file_extension": ".py",
   "mimetype": "text/x-python",
   "name": "python",
   "nbconvert_exporter": "python",
   "pygments_lexer": "ipython3",
   "version": "3.11.9"
  }
 },
 "nbformat": 4,
 "nbformat_minor": 5
}
