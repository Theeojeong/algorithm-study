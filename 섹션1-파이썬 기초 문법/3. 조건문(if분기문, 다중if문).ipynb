{
 "cells": [
  {
   "cell_type": "markdown",
   "id": "4ed36840",
   "metadata": {},
   "source": [
    "# 조건문 if(분기, 중첩)"
   ]
  },
  {
   "cell_type": "markdown",
   "id": "e91741d1",
   "metadata": {},
   "source": [
    "* = = -> 같다\n",
    "* ! = -> 같지 않다"
   ]
  },
  {
   "cell_type": "markdown",
   "id": "55bb7118",
   "metadata": {},
   "source": [
    "### 중첩 if 문"
   ]
  },
  {
   "cell_type": "code",
   "execution_count": null,
   "id": "33bcb02a",
   "metadata": {},
   "outputs": [],
   "source": [
    "x = 15\n",
    "\n",
    "if x>=10:\n",
    "    if x%2==1:\n",
    "        print(\"x는: 15\")"
   ]
  },
  {
   "cell_type": "markdown",
   "id": "3bedc0cb",
   "metadata": {},
   "source": [
    "### and(등기문)"
   ]
  },
  {
   "cell_type": "code",
   "execution_count": 6,
   "id": "59b4a48a",
   "metadata": {},
   "outputs": [
    {
     "name": "stdout",
     "output_type": "stream",
     "text": [
      "x는 7\n"
     ]
    }
   ],
   "source": [
    "x = 7\n",
    "\n",
    "if x>0 and x<10: # -> and\n",
    "    print(\"x는 7\")\n"
   ]
  },
  {
   "cell_type": "code",
   "execution_count": 7,
   "id": "577c3b10",
   "metadata": {},
   "outputs": [
    {
     "name": "stdout",
     "output_type": "stream",
     "text": [
      "x는 7\n"
     ]
    }
   ],
   "source": [
    "# python은 and 연산 안해도 됨\n",
    "x = 7\n",
    "\n",
    "if 0<x<10:\n",
    "    print(\"x는 7\")"
   ]
  },
  {
   "cell_type": "markdown",
   "id": "c5b42dca",
   "metadata": {},
   "source": [
    "### if else(분기문)"
   ]
  },
  {
   "cell_type": "code",
   "execution_count": 10,
   "id": "33b38d48",
   "metadata": {},
   "outputs": [
    {
     "name": "stdout",
     "output_type": "stream",
     "text": [
      "x는 음수\n"
     ]
    }
   ],
   "source": [
    "x = -2\n",
    "\n",
    "if x>0:\n",
    "    print(\"x는 양수\")\n",
    "else:\n",
    "    print(\"x는 음수\")"
   ]
  },
  {
   "cell_type": "markdown",
   "id": "a45f236b",
   "metadata": {},
   "source": [
    "### 다중 if문(elif)\n",
    "\n",
    "다중 if 문 -> 모든 if문을 각각 검사  \n",
    "elif문 -> if문이 참이면 나머지는 검사하지 않음\n",
    "\n",
    "여러 조건을 모두 확인해야 할 때 -> 다중 if문  \n",
    "하나의 범주에서 선택할 때 -> elif문"
   ]
  },
  {
   "cell_type": "code",
   "execution_count": 19,
   "id": "5bec7938",
   "metadata": {},
   "outputs": [
    {
     "name": "stdout",
     "output_type": "stream",
     "text": [
      "A학점\n"
     ]
    }
   ],
   "source": [
    "# 90점 이상은 A학점, 80점 이상은 B학점\n",
    "\n",
    "x = 90\n",
    "\n",
    "if x>=90:\n",
    "    print(\"A학점\")\n",
    "elif x>=80:\n",
    "    print(\"B학점\")\n",
    "elif x>=70:\n",
    "    print(\"C학점\")\n",
    "elif x>=60:\n",
    "    print(\"D학점\")\n",
    "else:\n",
    "    print(\"낙제\")"
   ]
  }
 ],
 "metadata": {
  "kernelspec": {
   "display_name": "Python 3",
   "language": "python",
   "name": "python3"
  },
  "language_info": {
   "codemirror_mode": {
    "name": "ipython",
    "version": 3
   },
   "file_extension": ".py",
   "mimetype": "text/x-python",
   "name": "python",
   "nbconvert_exporter": "python",
   "pygments_lexer": "ipython3",
   "version": "3.11.9"
  }
 },
 "nbformat": 4,
 "nbformat_minor": 5
}
