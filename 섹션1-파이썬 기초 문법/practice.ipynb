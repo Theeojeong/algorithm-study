{
 "cells": [
  {
   "cell_type": "code",
   "execution_count": 57,
   "id": "84be44b6",
   "metadata": {},
   "outputs": [
    {
     "name": "stdout",
     "output_type": "stream",
     "text": [
      "정답 = 728 현재 풀이 값 = 8\n",
      "정답 = 8820 현재 풀이 값 = 1260\n",
      "정답 = 270 현재 풀이 값 = 270\n"
     ]
    }
   ],
   "source": [
    "# array = [0, 3, 5, 6, 1, 2, 4]\n",
    "\n",
    "def find_max_plus_or_multiply(array):\n",
    "    x = 0\n",
    "    for i in array:\n",
    "        if i == 0 or i == 1:\n",
    "            x = x + i\n",
    "        else:\n",
    "            x = x * i\n",
    "    return x\n",
    "\n",
    "\n",
    "    # 0 + 3 * 5 * 6 * 1 * 2 * 4\n",
    "\n",
    "result = find_max_plus_or_multiply\n",
    "print(\"정답 = 728 현재 풀이 값 =\", result([0,3,5,6,1,2,4]))\n",
    "print(\"정답 = 8820 현재 풀이 값 =\", result([3,2,1,5,9,7,4]))\n",
    "print(\"정답 = 270 현재 풀이 값 =\", result([1,1,1,3,3,2,5]))\n"
   ]
  },
  {
   "cell_type": "code",
   "execution_count": null,
   "id": "0a01b0ec",
   "metadata": {},
   "outputs": [],
   "source": []
  }
 ],
 "metadata": {
  "kernelspec": {
   "display_name": "Python 3",
   "language": "python",
   "name": "python3"
  },
  "language_info": {
   "codemirror_mode": {
    "name": "ipython",
    "version": 3
   },
   "file_extension": ".py",
   "mimetype": "text/x-python",
   "name": "python",
   "nbconvert_exporter": "python",
   "pygments_lexer": "ipython3",
   "version": "3.11.9"
  }
 },
 "nbformat": 4,
 "nbformat_minor": 5
}
