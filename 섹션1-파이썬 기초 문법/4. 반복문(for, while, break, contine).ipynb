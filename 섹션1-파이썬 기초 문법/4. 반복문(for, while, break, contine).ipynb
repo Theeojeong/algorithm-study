{
 "cells": [
  {
   "cell_type": "markdown",
   "id": "8162a625",
   "metadata": {},
   "source": [
    "# 반복문(for, while)"
   ]
  },
  {
   "cell_type": "markdown",
   "id": "67c0aaba",
   "metadata": {},
   "source": [
    "### range\n",
    "range()는 순차적으로 정수 리스트를 만드는 함수이다"
   ]
  },
  {
   "cell_type": "code",
   "execution_count": 5,
   "id": "a3335082",
   "metadata": {},
   "outputs": [
    {
     "name": "stdout",
     "output_type": "stream",
     "text": [
      "[0, 1, 2, 3, 4, 5, 6, 7, 8, 9]\n"
     ]
    }
   ],
   "source": [
    "a = range(10)\n",
    "print(list(a))"
   ]
  },
  {
   "cell_type": "code",
   "execution_count": 7,
   "id": "a57a8c5f",
   "metadata": {},
   "outputs": [
    {
     "name": "stdout",
     "output_type": "stream",
     "text": [
      "[1, 2, 3, 4, 5, 6, 7, 8, 9, 10]\n"
     ]
    }
   ],
   "source": [
    "a = range(1,11)\n",
    "print(list(a))"
   ]
  },
  {
   "cell_type": "markdown",
   "id": "c7be44d0",
   "metadata": {},
   "source": [
    "### for\n",
    "for문은 리스트, 문자열, range 등 여러 개의 값을 하나씩 꺼내서 반복적으로 코드를 실행할 때 사용\n",
    "\n",
    "ex)\n",
    "* for 변수 in 반복가능한 것:\n",
    "*     실행할 코드\n",
    "\n",
    "변수 -> 반복할 때 마다 하나씩 값이 들어감\n",
    "반복가능한 것 -> 리스트, 문자열, range()등이 올 수 있음"
   ]
  },
  {
   "cell_type": "code",
   "execution_count": 10,
   "id": "fac1c234",
   "metadata": {},
   "outputs": [
    {
     "name": "stdout",
     "output_type": "stream",
     "text": [
      "0\n",
      "1\n",
      "2\n",
      "3\n",
      "4\n",
      "5\n",
      "6\n",
      "7\n",
      "8\n",
      "9\n"
     ]
    }
   ],
   "source": [
    "for i in range(10):\n",
    "    print(i)"
   ]
  },
  {
   "cell_type": "code",
   "execution_count": null,
   "id": "0dc30fe3",
   "metadata": {},
   "outputs": [
    {
     "name": "stdout",
     "output_type": "stream",
     "text": [
      "0\n",
      "3\n",
      "6\n",
      "9\n"
     ]
    }
   ],
   "source": [
    "for i in range(0, 10, 3): # n만큼 작아지게 하고 싶을 때 3번째 인자에 -n을 넣는다\n",
    "    print(i)"
   ]
  },
  {
   "cell_type": "markdown",
   "id": "1ad93170",
   "metadata": {},
   "source": [
    "### for 반복문 최대값 찾기 알고리즘"
   ]
  },
  {
   "cell_type": "markdown",
   "id": "4a9e80bc",
   "metadata": {},
   "source": [
    "   - float(\"inf\")     # 무한대\n",
    "   - float(\"-inf\")    # 음의 무한대\n",
    "   - float(\"nan\")     # Not a Number"
   ]
  },
  {
   "cell_type": "code",
   "execution_count": null,
   "id": "2480437a",
   "metadata": {},
   "outputs": [],
   "source": [
    "# 최대값 구하기\n",
    "max_value = float('-inf')  # 어떤 값보다도 작은 초기값\n",
    "numbers = [1, 5, 3, 9, 2]\n",
    "\n",
    "for num in numbers:\n",
    "    if num > max_value:\n",
    "        max_value = num\n",
    "\n",
    "print(max_value)  # 9"
   ]
  },
  {
   "cell_type": "code",
   "execution_count": null,
   "id": "122592d2",
   "metadata": {},
   "outputs": [
    {
     "name": "stdout",
     "output_type": "stream",
     "text": [
      "2\n"
     ]
    }
   ],
   "source": [
    "# 최솟값 구하기(1) \n",
    "arr=[5, 3, 7, 9, 2, 5, 2, 6]\n",
    "arrMin=float('inf')\n",
    "\n",
    "for i in range(len(arr)):\n",
    "    if arr[i]<arrMin:\n",
    "        arrMin=arr[i]\n",
    "print(arrMin)"
   ]
  },
  {
   "cell_type": "markdown",
   "id": "c1ad3080",
   "metadata": {},
   "source": [
    "### while"
   ]
  },
  {
   "cell_type": "code",
   "execution_count": null,
   "id": "b3136f59",
   "metadata": {},
   "outputs": [
    {
     "name": "stdout",
     "output_type": "stream",
     "text": [
      "1\n",
      "2\n",
      "3\n",
      "4\n",
      "5\n",
      "6\n",
      "7\n",
      "8\n",
      "9\n",
      "10\n"
     ]
    }
   ],
   "source": [
    "i=1\n",
    "while i<=10: # -> 조건\n",
    "    print(i)\n",
    "    i=i+1"
   ]
  },
  {
   "cell_type": "code",
   "execution_count": 22,
   "id": "8b76df30",
   "metadata": {},
   "outputs": [
    {
     "name": "stdout",
     "output_type": "stream",
     "text": [
      "10\n",
      "9\n",
      "8\n",
      "7\n",
      "6\n",
      "5\n",
      "4\n",
      "3\n",
      "2\n",
      "1\n"
     ]
    }
   ],
   "source": [
    "i=10\n",
    "while i>=1: # -> 조건\n",
    "    print(i)\n",
    "    i=i-1"
   ]
  },
  {
   "cell_type": "markdown",
   "id": "f5a247a6",
   "metadata": {},
   "source": [
    "### break\n",
    "반복문을 멈추고 싶을 때 사용한다"
   ]
  },
  {
   "cell_type": "code",
   "execution_count": 29,
   "id": "b8ec6b3d",
   "metadata": {},
   "outputs": [
    {
     "name": "stdout",
     "output_type": "stream",
     "text": [
      "1\n",
      "2\n",
      "3\n",
      "4\n",
      "5\n"
     ]
    }
   ],
   "source": [
    "i=1\n",
    "while i<=10: #-> while자체가 True면 계속 실행되기 때문에 무한반복을 하게됨됨\n",
    "    print(i)\n",
    "    if i==5:\n",
    "        break\n",
    "    i+=1 # -> i=i+1의 축약 표현이다"
   ]
  },
  {
   "cell_type": "markdown",
   "id": "f87f88e6",
   "metadata": {},
   "source": [
    "### continue\n",
    "* 반복문에서 사용\n",
    "continue를 만나면 아래 코드를 실행하지 않고 바로 다음 반복으로 넘어간다"
   ]
  },
  {
   "cell_type": "code",
   "execution_count": 33,
   "id": "09c446fc",
   "metadata": {},
   "outputs": [
    {
     "name": "stdout",
     "output_type": "stream",
     "text": [
      "1\n",
      "3\n",
      "5\n",
      "7\n",
      "9\n"
     ]
    }
   ],
   "source": [
    "for i in range(1,11):\n",
    "    if i%2==0:\n",
    "        continue\n",
    "    print(i)"
   ]
  },
  {
   "cell_type": "markdown",
   "id": "933a19e7",
   "metadata": {},
   "source": [
    "### 추가 for else 구문\n",
    "for 반복이 정상적으로 끝나면 else 실행"
   ]
  },
  {
   "cell_type": "code",
   "execution_count": 40,
   "id": "3d97f644",
   "metadata": {},
   "outputs": [
    {
     "name": "stdout",
     "output_type": "stream",
     "text": [
      "1\n",
      "2\n",
      "3\n",
      "4\n",
      "5\n",
      "6\n",
      "7\n",
      "8\n",
      "9\n",
      "11\n"
     ]
    }
   ],
   "source": [
    "for i in range(1,10):\n",
    "    print(i)\n",
    "    if i==7:\n",
    "        continue\n",
    "else:\n",
    "    print(11)"
   ]
  }
 ],
 "metadata": {
  "kernelspec": {
   "display_name": "Python 3",
   "language": "python",
   "name": "python3"
  },
  "language_info": {
   "codemirror_mode": {
    "name": "ipython",
    "version": 3
   },
   "file_extension": ".py",
   "mimetype": "text/x-python",
   "name": "python",
   "nbconvert_exporter": "python",
   "pygments_lexer": "ipython3",
   "version": "3.11.9"
  }
 },
 "nbformat": 4,
 "nbformat_minor": 5
}
