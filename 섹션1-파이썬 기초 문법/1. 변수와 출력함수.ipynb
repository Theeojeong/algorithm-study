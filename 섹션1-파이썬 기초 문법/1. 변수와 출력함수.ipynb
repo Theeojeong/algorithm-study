{
 "cells": [
  {
   "cell_type": "markdown",
   "id": "b7c21928",
   "metadata": {},
   "source": [
    "# 1. 변수와 출력함수"
   ]
  },
  {
   "cell_type": "code",
   "execution_count": 3,
   "id": "b5be2f8b",
   "metadata": {},
   "outputs": [
    {
     "name": "stdout",
     "output_type": "stream",
     "text": [
      "3 2 1\n"
     ]
    }
   ],
   "source": [
    "a, b, c = 3, 2, 1 # 이렇게 선언하면 왼쪽에 있는 변수에 오른쪽에 있는 값을 할당함\n",
    "print(a, b, c)"
   ]
  },
  {
   "cell_type": "markdown",
   "id": "07814f23",
   "metadata": {},
   "source": [
    "### 값 교환"
   ]
  },
  {
   "cell_type": "code",
   "execution_count": 4,
   "id": "90218ef4",
   "metadata": {},
   "outputs": [
    {
     "name": "stdout",
     "output_type": "stream",
     "text": [
      "10 20\n"
     ]
    }
   ],
   "source": [
    "a, b = 10, 20\n",
    "print(a, b)"
   ]
  },
  {
   "cell_type": "code",
   "execution_count": null,
   "id": "bed4e1fe",
   "metadata": {},
   "outputs": [
    {
     "name": "stdout",
     "output_type": "stream",
     "text": [
      "20 10\n"
     ]
    }
   ],
   "source": [
    "a, b = b, a # a와 b 값 교환이 가능하다\n",
    "print(a, b)"
   ]
  },
  {
   "cell_type": "markdown",
   "id": "d0081af8",
   "metadata": {},
   "source": [
    "### 변수 타입"
   ]
  },
  {
   "cell_type": "code",
   "execution_count": 7,
   "id": "5e4d2ad0",
   "metadata": {},
   "outputs": [
    {
     "name": "stdout",
     "output_type": "stream",
     "text": [
      "<class 'int'>\n",
      "<class 'float'>\n",
      "<class 'str'>\n"
     ]
    }
   ],
   "source": [
    "a = 10\n",
    "print(type(a))\n",
    "b = 10.234\n",
    "print(type(b))\n",
    "c = \"Hello\"\n",
    "print(type(c))"
   ]
  },
  {
   "cell_type": "markdown",
   "id": "af9aa181",
   "metadata": {},
   "source": [
    "### 출력 방식"
   ]
  },
  {
   "cell_type": "code",
   "execution_count": null,
   "id": "f2ab4999",
   "metadata": {},
   "outputs": [
    {
     "name": "stdout",
     "output_type": "stream",
     "text": [
      "number\n",
      "1 2 3\n",
      "number :  1 2 3\n",
      "1, 2, 3\n",
      "1\n",
      "2\n",
      "3\n"
     ]
    }
   ],
   "source": [
    "print(\"number\")\n",
    "a, b, c = 1, 2, 3\n",
    "print(a, b, c)\n",
    "print(\"number : \", a, b, c)\n",
    "print(a, b, c, sep=\", \") # -> 내가 몰랐던 개념1 # sep은 출력할 때 사용하는 구분자\n",
    "print(a, b, c, sep=\"\\n\") # -> 내가 몰랐던 개념2 # sep은 출력할 때 사용하는 구분자"
   ]
  },
  {
   "cell_type": "code",
   "execution_count": 33,
   "id": "0ab858cc",
   "metadata": {},
   "outputs": [
    {
     "name": "stdout",
     "output_type": "stream",
     "text": [
      "1 2 3\n"
     ]
    }
   ],
   "source": [
    "print(a, end=\" \")\n",
    "print(b, end=\" \")\n",
    "print(c)"
   ]
  }
 ],
 "metadata": {
  "kernelspec": {
   "display_name": "Python 3",
   "language": "python",
   "name": "python3"
  },
  "language_info": {
   "codemirror_mode": {
    "name": "ipython",
    "version": 3
   },
   "file_extension": ".py",
   "mimetype": "text/x-python",
   "name": "python",
   "nbconvert_exporter": "python",
   "pygments_lexer": "ipython3",
   "version": "3.11.9"
  }
 },
 "nbformat": 4,
 "nbformat_minor": 5
}
