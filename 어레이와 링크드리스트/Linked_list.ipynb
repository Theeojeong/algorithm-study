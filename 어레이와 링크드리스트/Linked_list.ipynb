{
 "cells": [
  {
   "cell_type": "code",
   "execution_count": 25,
   "id": "87d05b67",
   "metadata": {},
   "outputs": [
    {
     "name": "stdout",
     "output_type": "stream",
     "text": [
      "<__main__.Node object at 0x0000026E3B910E90>\n"
     ]
    }
   ],
   "source": [
    "class Node: # -> linked list 에서 node를 설정하는 class\n",
    "    def __init__(self, data):\n",
    "        self.data = data\n",
    "        self.next = None # -> node와 node를 이어주는 속성\n",
    "\n",
    "# [5] -> [4] -> [7]\n",
    "\n",
    "first_node = Node(5)\n",
    "second_node = Node(4)\n",
    "\n",
    "first_node.next = second_node\n",
    "\n",
    "print(first_node.next)\n",
    "\n",
    "# class LinkedList:\n",
    "#     def __init__(self, value):\n",
    "#         self.head = \n",
    "\n"
   ]
  },
  {
   "cell_type": "code",
   "execution_count": null,
   "id": "40aaaf59",
   "metadata": {},
   "outputs": [],
   "source": []
  }
 ],
 "metadata": {
  "kernelspec": {
   "display_name": "Python 3",
   "language": "python",
   "name": "python3"
  },
  "language_info": {
   "codemirror_mode": {
    "name": "ipython",
    "version": 3
   },
   "file_extension": ".py",
   "mimetype": "text/x-python",
   "name": "python",
   "nbconvert_exporter": "python",
   "pygments_lexer": "ipython3",
   "version": "3.11.9"
  }
 },
 "nbformat": 4,
 "nbformat_minor": 5
}
