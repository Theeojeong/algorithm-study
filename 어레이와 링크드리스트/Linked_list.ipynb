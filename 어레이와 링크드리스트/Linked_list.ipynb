{
 "cells": [
  {
   "cell_type": "code",
   "execution_count": 35,
   "id": "87d05b67",
   "metadata": {},
   "outputs": [
    {
     "name": "stdout",
     "output_type": "stream",
     "text": [
      "<__main__.Node object at 0x0000026E3B9F4350>\n",
      "5\n",
      "7\n"
     ]
    }
   ],
   "source": [
    "class Node: # -> linked list 에서 node를 설정하는 class\n",
    "    def __init__(self, data):\n",
    "        self.data = data\n",
    "        self.next = None # -> node와 node를 이어주는 속성\n",
    "\n",
    "# [5] -> [4] -> [7]\n",
    "\n",
    "first_node = Node(5)\n",
    "second_node = Node(4)\n",
    "\n",
    "first_node.next = second_node\n",
    "\n",
    "print(first_node.next)\n",
    "\n",
    "# class LinkedList:\n",
    "#     def __init__(self, value):\n",
    "#         self.head = \n",
    "\n",
    "class LinkedList:\n",
    "    def __init__(self, value):\n",
    "        self.head = Node(value)\n",
    "\n",
    "    def append(self, value):\n",
    "        cur = self.head\n",
    "\n",
    "        while cur.next is not None:\n",
    "            cur = cur.next\n",
    "        \n",
    "        cur.next = Node(value)\n",
    "\n",
    "    def print(self):\n",
    "        cur = self.head\n",
    "\n",
    "        while cur is not None:\n",
    "            print(cur.data)\n",
    "            cur = cur.next\n",
    "\n",
    "linked_list = LinkedList(5)\n",
    "linked_list.append(7)\n",
    "linked_list.print()\n"
   ]
  },
  {
   "cell_type": "code",
   "execution_count": null,
   "id": "40aaaf59",
   "metadata": {},
   "outputs": [],
   "source": []
  }
 ],
 "metadata": {
  "kernelspec": {
   "display_name": "Python 3",
   "language": "python",
   "name": "python3"
  },
  "language_info": {
   "codemirror_mode": {
    "name": "ipython",
    "version": 3
   },
   "file_extension": ".py",
   "mimetype": "text/x-python",
   "name": "python",
   "nbconvert_exporter": "python",
   "pygments_lexer": "ipython3",
   "version": "3.11.9"
  }
 },
 "nbformat": 4,
 "nbformat_minor": 5
}
