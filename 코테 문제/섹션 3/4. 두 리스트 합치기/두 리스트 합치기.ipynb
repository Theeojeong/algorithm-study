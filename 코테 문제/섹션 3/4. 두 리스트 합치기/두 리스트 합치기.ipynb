{
 "cells": [
  {
   "cell_type": "code",
   "execution_count": 5,
   "id": "26e9a5a8",
   "metadata": {},
   "outputs": [
    {
     "name": "stdout",
     "output_type": "stream",
     "text": [
      "3\n",
      "[1, 3, 5]\n",
      "5\n",
      "[2, 3, 6, 7, 9]\n",
      "1 2 3 3 5 6 7 9 "
     ]
    }
   ],
   "source": [
    "N = int(input())\n",
    "print(N)\n",
    "\n",
    "List1 = list(map(int, input().split()))\n",
    "print(List1)\n",
    "\n",
    "M = int(input())\n",
    "print(M)\n",
    "\n",
    "List2 = list(map(int, input().split()))\n",
    "print(List2)\n",
    "\n",
    "List3 = List1 + List2\n",
    "List3.sort()\n",
    "for i in List3:\n",
    "    print(i, end=\" \")"
   ]
  },
  {
   "cell_type": "markdown",
   "id": "35dbba69",
   "metadata": {},
   "source": [
    "### Two Pointer 기법"
   ]
  },
  {
   "cell_type": "code",
   "execution_count": null,
   "id": "89333015",
   "metadata": {},
   "outputs": [
    {
     "name": "stdout",
     "output_type": "stream",
     "text": [
      "['1', '2', '3', '4']\n",
      "<class 'str'>\n"
     ]
    }
   ],
   "source": [
    "N = int(input())\n",
    "list1 = list(map(int, input().split()))\n",
    "\n",
    "M = int(input())\n",
    "list2 = list(map(int, input().split()))\n",
    "\n",
    "# Two Pointer 기법\n",
    "result = []\n",
    "i = j = 0  # 각 리스트의 포인터\n",
    "\n",
    "while i < N and j < M:\n",
    "    if list1[i] <= list2[j]:\n",
    "        result.append(list1[i])\n",
    "        i += 1\n",
    "    else:\n",
    "        result.append(list2[j])\n",
    "        j += 1\n",
    "\n",
    "# 남은 원소들 추가\n",
    "while i < N:\n",
    "    result.append(list1[i])\n",
    "    i += 1\n",
    "\n",
    "while j < M:\n",
    "    result.append(list2[j])\n",
    "    j += 1\n",
    "\n",
    "for x in result:\n",
    "    print(x, end=\" \")"
   ]
  }
 ],
 "metadata": {
  "kernelspec": {
   "display_name": ".venv",
   "language": "python",
   "name": "python3"
  },
  "language_info": {
   "codemirror_mode": {
    "name": "ipython",
    "version": 3
   },
   "file_extension": ".py",
   "mimetype": "text/x-python",
   "name": "python",
   "nbconvert_exporter": "python",
   "pygments_lexer": "ipython3",
   "version": "3.12.4"
  }
 },
 "nbformat": 4,
 "nbformat_minor": 5
}
