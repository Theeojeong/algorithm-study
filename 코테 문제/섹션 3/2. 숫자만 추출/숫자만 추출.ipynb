{
 "cells": [
  {
   "cell_type": "code",
   "execution_count": 19,
   "id": "58f01c3e",
   "metadata": {},
   "outputs": [
    {
     "name": "stdout",
     "output_type": "stream",
     "text": [
      "28\n",
      "6\n"
     ]
    }
   ],
   "source": [
    "# g0en2Ts8eSoft\n",
    "x = input()\n",
    "\n",
    "digits = [i for i in x if i.isdigit()]\n",
    "number = int(\"\".join(digits))\n",
    "print(number)\n",
    "\n",
    "count=0\n",
    "for i in range(1, number+1):\n",
    "    if number%i == 0:\n",
    "        count = count + 1\n",
    "print(count)\n",
    "\n",
    "\n",
    "# y = []\n",
    "\n",
    "# for i in digits:\n",
    "#     if i != 0:\n",
    "#         y.append"
   ]
  },
  {
   "cell_type": "code",
   "execution_count": 13,
   "id": "c838334f",
   "metadata": {},
   "outputs": [
    {
     "name": "stdout",
     "output_type": "stream",
     "text": [
      "['0', '2', '8']\n"
     ]
    }
   ],
   "source": [
    "text = \"g0en2Ts8eSoft\"\n",
    "\n",
    "digits = [i for i in text if i.isdigit()]\n",
    "print(digits)"
   ]
  }
 ],
 "metadata": {
  "kernelspec": {
   "display_name": ".venv",
   "language": "python",
   "name": "python3"
  },
  "language_info": {
   "codemirror_mode": {
    "name": "ipython",
    "version": 3
   },
   "file_extension": ".py",
   "mimetype": "text/x-python",
   "name": "python",
   "nbconvert_exporter": "python",
   "pygments_lexer": "ipython3",
   "version": "3.12.4"
  }
 },
 "nbformat": 4,
 "nbformat_minor": 5
}
