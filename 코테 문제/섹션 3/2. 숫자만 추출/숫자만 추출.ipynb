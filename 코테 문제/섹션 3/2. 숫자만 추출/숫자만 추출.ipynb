{
 "cells": [
  {
   "cell_type": "code",
   "execution_count": 12,
   "id": "58f01c3e",
   "metadata": {},
   "outputs": [
    {
     "name": "stdout",
     "output_type": "stream",
     "text": [
      "g 0 e n 2 T s 8 e S o f t \n",
      "[]\n"
     ]
    }
   ],
   "source": [
    "# g0en2Ts8eSoft\n",
    "x = input()\n",
    "# print(x)\n",
    "z=[0,1,2,3,4,5,6,7,8,9]\n",
    "y = []\n",
    "\n",
    "for i in x:\n",
    "    print(i, end=\" \")\n",
    "    if i in z:\n",
    "        y.append(i)\n",
    "\n",
    "print()\n",
    "print(y)\n"
   ]
  }
 ],
 "metadata": {
  "kernelspec": {
   "display_name": ".venv",
   "language": "python",
   "name": "python3"
  },
  "language_info": {
   "codemirror_mode": {
    "name": "ipython",
    "version": 3
   },
   "file_extension": ".py",
   "mimetype": "text/x-python",
   "name": "python",
   "nbconvert_exporter": "python",
   "pygments_lexer": "ipython3",
   "version": "3.12.4"
  }
 },
 "nbformat": 4,
 "nbformat_minor": 5
}
