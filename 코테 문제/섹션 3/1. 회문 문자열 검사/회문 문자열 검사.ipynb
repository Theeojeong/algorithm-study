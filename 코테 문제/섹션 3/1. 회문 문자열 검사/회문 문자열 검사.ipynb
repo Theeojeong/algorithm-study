{
 "cells": [
  {
   "cell_type": "markdown",
   "id": "085ae1ec",
   "metadata": {},
   "source": [
    "### 파이썬스럽게"
   ]
  },
  {
   "cell_type": "code",
   "execution_count": 18,
   "id": "e4efc311",
   "metadata": {},
   "outputs": [
    {
     "name": "stdout",
     "output_type": "stream",
     "text": [
      "#1 YES\n",
      "#2 NO\n",
      "#3 YES\n",
      "#4 NO\n",
      "#5 YES\n"
     ]
    }
   ],
   "source": [
    "N = int(input())\n",
    "\n",
    "for i in range(1, N+1):\n",
    "    x = input()\n",
    "    if x == 'q':\n",
    "        break\n",
    "    x = x.upper()\n",
    "\n",
    "    y = []\n",
    "\n",
    "    for j in x:\n",
    "        y.append(j)\n",
    "    \n",
    "    if y == y[::-1]:\n",
    "        print(f\"#{i} YES\")\n",
    "    else:\n",
    "        print(f\"#{i} NO\")"
   ]
  },
  {
   "cell_type": "markdown",
   "id": "25d8b591",
   "metadata": {},
   "source": [
    "### 강사님 버전"
   ]
  },
  {
   "cell_type": "code",
   "execution_count": 3,
   "id": "8be77429",
   "metadata": {},
   "outputs": [
    {
     "name": "stdout",
     "output_type": "stream",
     "text": [
      "#1 YES\n"
     ]
    }
   ],
   "source": [
    "N = int(input())\n",
    "\n",
    "for i in range(N):\n",
    "    x = input()\n",
    "    if x == 'q':\n",
    "        break\n",
    "    x = x.upper()\n",
    "    # print(x)\n",
    "    for j in range(len(x)//2):\n",
    "        if x[j]!=x[-1-j]:\n",
    "            print(f\"#{i+1} NO\")\n",
    "            break\n",
    "    else:\n",
    "        print(f\"#{i+1} YES\")\n"
   ]
  }
 ],
 "metadata": {
  "kernelspec": {
   "display_name": ".venv",
   "language": "python",
   "name": "python3"
  },
  "language_info": {
   "codemirror_mode": {
    "name": "ipython",
    "version": 3
   },
   "file_extension": ".py",
   "mimetype": "text/x-python",
   "name": "python",
   "nbconvert_exporter": "python",
   "pygments_lexer": "ipython3",
   "version": "3.12.4"
  }
 },
 "nbformat": 4,
 "nbformat_minor": 5
}
