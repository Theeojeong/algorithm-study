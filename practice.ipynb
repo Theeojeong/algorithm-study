{
 "cells": [
  {
   "cell_type": "code",
   "execution_count": null,
   "id": "e4efc311",
   "metadata": {},
   "outputs": [
    {
     "name": "stdout",
     "output_type": "stream",
     "text": [
      "1 NO\n",
      "#2 YES\n"
     ]
    }
   ],
   "source": [
    "\n",
    "\n",
    "n = int(input())\n",
    "\n",
    "for i in range(1, n+1):\n",
    "    s = input()\n",
    "    if s == 'q':\n",
    "        break\n",
    "\n",
    "    else:\n",
    "        x = s.upper()\n",
    "        # print(f\"대문자로 변경: {x}\") # level -> LEVEL\n",
    "\n",
    "        y =[]\n",
    "\n",
    "        for j in x:\n",
    "            y.append(j)\n",
    "        \n",
    "        # print(y)\n",
    "\n",
    "        if y == y[::-1]:\n",
    "            print(f\"#{i} YES\")\n",
    "        else:\n",
    "            print(f\"#{i} NO\")"
   ]
  }
 ],
 "metadata": {
  "kernelspec": {
   "display_name": "Python 3",
   "language": "python",
   "name": "python3"
  },
  "language_info": {
   "codemirror_mode": {
    "name": "ipython",
    "version": 3
   },
   "file_extension": ".py",
   "mimetype": "text/x-python",
   "name": "python",
   "nbconvert_exporter": "python",
   "pygments_lexer": "ipython3",
   "version": "3.11.9"
  }
 },
 "nbformat": 4,
 "nbformat_minor": 5
}
