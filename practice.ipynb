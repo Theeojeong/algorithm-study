{
 "cells": [
  {
   "cell_type": "code",
   "execution_count": null,
   "id": "1a3a88f9",
   "metadata": {},
   "outputs": [],
   "source": [
    "# 값 교환"
   ]
  },
  {
   "cell_type": "code",
   "execution_count": null,
   "id": "44614948",
   "metadata": {},
   "outputs": [],
   "source": [
    "# 변수 타입"
   ]
  },
  {
   "cell_type": "code",
   "execution_count": null,
   "id": "adc5b81d",
   "metadata": {},
   "outputs": [],
   "source": [
    "# 출력 방식"
   ]
  },
  {
   "cell_type": "code",
   "execution_count": 5,
   "id": "009fe797",
   "metadata": {},
   "outputs": [],
   "source": [
    "a, b, c = 1, 2, 3"
   ]
  },
  {
   "cell_type": "code",
   "execution_count": 9,
   "id": "dbfb347c",
   "metadata": {},
   "outputs": [],
   "source": [
    "a = 10\n",
    "b = 10.123\n",
    "c = \"hello\""
   ]
  },
  {
   "cell_type": "code",
   "execution_count": 51,
   "id": "f024420d",
   "metadata": {},
   "outputs": [
    {
     "name": "stdout",
     "output_type": "stream",
     "text": [
      "1,\n",
      "3\n"
     ]
    }
   ],
   "source": [
    "a, b = input(\"숫자를 입력하세요\").split()\n",
    "print(a)\n",
    "print(b)"
   ]
  },
  {
   "cell_type": "code",
   "execution_count": null,
   "id": "a6734e3d",
   "metadata": {},
   "outputs": [
    {
     "data": {
      "text/plain": [
       "['1   ', '    3']"
      ]
     },
     "execution_count": 49,
     "metadata": {},
     "output_type": "execute_result"
    }
   ],
   "source": [
    "user_input = \"1       3\"\n",
    "\n",
    "user_input.split(\",\")"
   ]
  }
 ],
 "metadata": {
  "kernelspec": {
   "display_name": "Python 3",
   "language": "python",
   "name": "python3"
  },
  "language_info": {
   "codemirror_mode": {
    "name": "ipython",
    "version": 3
   },
   "file_extension": ".py",
   "mimetype": "text/x-python",
   "name": "python",
   "nbconvert_exporter": "python",
   "pygments_lexer": "ipython3",
   "version": "3.11.9"
  }
 },
 "nbformat": 4,
 "nbformat_minor": 5
}
